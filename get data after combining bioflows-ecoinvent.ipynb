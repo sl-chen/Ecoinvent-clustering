{
 "cells": [
  {
   "cell_type": "code",
   "execution_count": 1,
   "metadata": {},
   "outputs": [],
   "source": [
    "import brightway2 as bw"
   ]
  },
  {
   "cell_type": "code",
   "execution_count": 2,
   "metadata": {},
   "outputs": [],
   "source": [
    "bw.projects.set_current('Dimension reduction')"
   ]
  },
  {
   "cell_type": "code",
   "execution_count": 3,
   "metadata": {},
   "outputs": [
    {
     "data": {
      "text/plain": [
       "'market for jatropha seed' (kilogram, GLO, None)"
      ]
     },
     "execution_count": 3,
     "metadata": {},
     "output_type": "execute_result"
    }
   ],
   "source": [
    "eidb = bw.Database(\"ecoinvent 3.6 cutoff\")\n",
    "random_act = eidb.random()\n",
    "random_act"
   ]
  },
  {
   "cell_type": "code",
   "execution_count": 4,
   "metadata": {},
   "outputs": [],
   "source": [
    "lca = bw.LCA({random_act: 1}, method=('IPCC 2013', 'climate change', 'GWP 100a'))\n",
    "lca.lci()\n",
    "lca.lcia()"
   ]
  },
  {
   "cell_type": "code",
   "execution_count": 5,
   "metadata": {},
   "outputs": [],
   "source": [
    "bio = bw.Database(\"biosphere3\")"
   ]
  },
  {
   "cell_type": "code",
   "execution_count": 6,
   "metadata": {},
   "outputs": [],
   "source": [
    "from collections import defaultdict\n",
    "from pyprind import prog_bar\n",
    "import numpy as np\n",
    "from scipy import sparse"
   ]
  },
  {
   "cell_type": "code",
   "execution_count": 7,
   "metadata": {},
   "outputs": [
    {
     "data": {
      "text/plain": [
       "defaultdict(list, {})"
      ]
     },
     "execution_count": 7,
     "metadata": {},
     "output_type": "execute_result"
    }
   ],
   "source": [
    "bio_grouping = defaultdict(list)\n",
    "bio_grouping"
   ]
  },
  {
   "cell_type": "code",
   "execution_count": 8,
   "metadata": {},
   "outputs": [
    {
     "data": {
      "text/plain": [
       "(4321, 1317, 2244)"
      ]
     },
     "execution_count": 8,
     "metadata": {},
     "output_type": "execute_result"
    }
   ],
   "source": [
    "n = 0\n",
    "for ds in bio:\n",
    "    if ds not in lca.biosphere_dict:\n",
    "        n = n+1 # skipped flows in biosphere\n",
    "        # Not produced by any ecoinvent activity; skip\n",
    "        continue\n",
    "\n",
    "    bio_grouping[(ds['name'], ds['categories'][0])].append(ds)\n",
    "    \n",
    "len(bio), len(bio_grouping),n"
   ]
  },
  {
   "cell_type": "code",
   "execution_count": 9,
   "metadata": {},
   "outputs": [],
   "source": [
    "rows, cols, data = [], [], []\n",
    "reduction_matrix_mapping = {}\n",
    "\n",
    "for row_index, key in enumerate(sorted(bio_grouping)):\n",
    "    for ds in bio_grouping[key]:\n",
    "        rows.append(row_index)\n",
    "        cols.append(lca.biosphere_dict[ds])\n",
    "        data.append(1)\n",
    "        reduction_matrix_mapping[key] = row_index\n",
    "        \n",
    "matrix = sparse.coo_matrix(\n",
    "    (np.array(data), (np.array(rows), np.array(cols))),\n",
    "    shape=(max(rows) + 1, max(cols) + 1)\n",
    ").tocsr()"
   ]
  },
  {
   "cell_type": "code",
   "execution_count": 10,
   "metadata": {},
   "outputs": [
    {
     "data": {
      "text/plain": [
       "(80272109619.25703, 80272109619.25713)"
      ]
     },
     "execution_count": 10,
     "metadata": {},
     "output_type": "execute_result"
    }
   ],
   "source": [
    "lca.biosphere_matrix.sum(), (matrix * lca.biosphere_matrix).sum()"
   ]
  },
  {
   "cell_type": "code",
   "execution_count": 12,
   "metadata": {},
   "outputs": [
    {
     "data": {
      "text/plain": [
       "(1.110456082285161, 1.1104560822851592)"
      ]
     },
     "execution_count": 12,
     "metadata": {},
     "output_type": "execute_result"
    }
   ],
   "source": [
    "lca.characterized_inventory.sum(), (matrix * lca.characterized_inventory).sum()"
   ]
  },
  {
   "cell_type": "code",
   "execution_count": 13,
   "metadata": {},
   "outputs": [],
   "source": [
    "vectors = {}"
   ]
  },
  {
   "cell_type": "code",
   "execution_count": 14,
   "metadata": {},
   "outputs": [
    {
     "name": "stderr",
     "output_type": "stream",
     "text": [
      "0% [##############################] 100% | ETA: 00:00:00\n",
      "Total time elapsed: 00:06:44\n"
     ]
    }
   ],
   "source": [
    "for ds in prog_bar(eidb):\n",
    "    lca.redo_lcia({ds: 1})\n",
    "    if not lca.score:\n",
    "        continue\n",
    "    vectors[lca.activity_dict[ds.key]] = np.ravel((matrix * lca.inventory.copy()).sum(axis=1))"
   ]
  },
  {
   "cell_type": "code",
   "execution_count": 15,
   "metadata": {},
   "outputs": [
    {
     "data": {
      "text/plain": [
       "17313"
      ]
     },
     "execution_count": 15,
     "metadata": {},
     "output_type": "execute_result"
    }
   ],
   "source": [
    "len(vectors)"
   ]
  },
  {
   "cell_type": "code",
   "execution_count": 16,
   "metadata": {},
   "outputs": [],
   "source": [
    "import pandas as pd\n",
    "df = pd.DataFrame(vectors)\n",
    "df_new = df.T.copy()\n",
    "df_new.save('activity_bioflows_inventory.csv')"
   ]
  }
 ],
 "metadata": {
  "kernelspec": {
   "display_name": "Python 3",
   "language": "python",
   "name": "python3"
  },
  "language_info": {
   "codemirror_mode": {
    "name": "ipython",
    "version": 3
   },
   "file_extension": ".py",
   "mimetype": "text/x-python",
   "name": "python",
   "nbconvert_exporter": "python",
   "pygments_lexer": "ipython3",
   "version": "3.7.1"
  }
 },
 "nbformat": 4,
 "nbformat_minor": 2
}
