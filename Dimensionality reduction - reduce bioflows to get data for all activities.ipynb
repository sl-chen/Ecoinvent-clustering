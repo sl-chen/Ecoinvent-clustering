{
 "cells": [
  {
   "cell_type": "code",
   "execution_count": 1,
   "metadata": {},
   "outputs": [],
   "source": [
    "%matplotlib inline"
   ]
  },
  {
   "cell_type": "code",
   "execution_count": 2,
   "metadata": {},
   "outputs": [],
   "source": [
    "import brightway2 as bw\n",
    "import numpy as np\n",
    "import pyprind\n",
    "from matplotlib import pyplot as plt\n",
    "import seaborn as sb"
   ]
  },
  {
   "cell_type": "code",
   "execution_count": 3,
   "metadata": {},
   "outputs": [],
   "source": [
    "bw.projects.set_current('Dimension reduction')"
   ]
  },
  {
   "cell_type": "code",
   "execution_count": 4,
   "metadata": {},
   "outputs": [
    {
     "data": {
      "text/plain": [
       "Databases dictionary with 2 object(s):\n",
       "\tbiosphere3\n",
       "\tecoinvent 3.6 cutoff"
      ]
     },
     "execution_count": 4,
     "metadata": {},
     "output_type": "execute_result"
    }
   ],
   "source": [
    "bw.databases"
   ]
  },
  {
   "cell_type": "code",
   "execution_count": 5,
   "metadata": {},
   "outputs": [
    {
     "data": {
      "text/plain": [
       "18121"
      ]
     },
     "execution_count": 5,
     "metadata": {},
     "output_type": "execute_result"
    }
   ],
   "source": [
    "eidb = bw.Database(\"ecoinvent 3.6 cutoff\") \n",
    "len(eidb)"
   ]
  },
  {
   "cell_type": "code",
   "execution_count": 6,
   "metadata": {},
   "outputs": [
    {
     "data": {
      "text/plain": [
       "[('ReCiPe Midpoint (E) V1.13', 'freshwater ecotoxicity', 'FETPinf'),\n",
       " ('ReCiPe Midpoint (E) V1.13', 'human toxicity', 'HTPinf'),\n",
       " ('ReCiPe Midpoint (E) V1.13', 'marine ecotoxicity', 'METPinf'),\n",
       " ('ReCiPe Midpoint (E) V1.13', 'terrestrial ecotoxicity', 'TETPinf'),\n",
       " ('ReCiPe Midpoint (E) V1.13', 'metal depletion', 'MDP'),\n",
       " ('ReCiPe Midpoint (E) V1.13', 'agricultural land occupation', 'ALOP'),\n",
       " ('ReCiPe Midpoint (E) V1.13', 'climate change', 'GWP500'),\n",
       " ('ReCiPe Midpoint (E) V1.13', 'fossil depletion', 'FDP'),\n",
       " ('ReCiPe Midpoint (E) V1.13', 'freshwater eutrophication', 'FEP'),\n",
       " ('ReCiPe Midpoint (E) V1.13', 'ionising radiation', 'IRP_HE'),\n",
       " ('ReCiPe Midpoint (E) V1.13', 'marine eutrophication', 'MEP'),\n",
       " ('ReCiPe Midpoint (E) V1.13', 'ozone depletion', 'ODPinf'),\n",
       " ('ReCiPe Midpoint (E) V1.13', 'particulate matter formation', 'PMFP'),\n",
       " ('ReCiPe Midpoint (E) V1.13', 'photochemical oxidant formation', 'POFP'),\n",
       " ('ReCiPe Midpoint (E) V1.13', 'terrestrial acidification', 'TAP500'),\n",
       " ('ReCiPe Midpoint (E) V1.13', 'urban land occupation', 'ULOP'),\n",
       " ('ReCiPe Midpoint (E) V1.13', 'water depletion', 'WDP')]"
      ]
     },
     "execution_count": 6,
     "metadata": {},
     "output_type": "execute_result"
    }
   ],
   "source": [
    "methods = [obj for obj in bw.methods \n",
    "           if obj[0] == 'ReCiPe Midpoint (E) V1.13'\n",
    "           and obj[1] != 'natural land transformation']\n",
    "methods"
   ]
  },
  {
   "cell_type": "code",
   "execution_count": 8,
   "metadata": {},
   "outputs": [
    {
     "data": {
      "text/plain": [
       "'petrol, low-sulfur, import from Europe' (kilogram, CH, None)"
      ]
     },
     "execution_count": 8,
     "metadata": {},
     "output_type": "execute_result"
    }
   ],
   "source": [
    "random_act = eidb.random()\n",
    "random_act"
   ]
  },
  {
   "cell_type": "code",
   "execution_count": 9,
   "metadata": {},
   "outputs": [],
   "source": [
    "lca = bw.LCA({random_act: 1}, methods[0])\n",
    "lca.lci()\n",
    "lca.lcia()"
   ]
  },
  {
   "cell_type": "code",
   "execution_count": 10,
   "metadata": {},
   "outputs": [
    {
     "data": {
      "text/plain": [
       "<2077x18121 sparse matrix of type '<class 'numpy.float64'>'\n",
       "\twith 407437 stored elements in Compressed Sparse Row format>"
      ]
     },
     "execution_count": 10,
     "metadata": {},
     "output_type": "execute_result"
    }
   ],
   "source": [
    "lca.biosphere_matrix"
   ]
  },
  {
   "cell_type": "code",
   "execution_count": 11,
   "metadata": {},
   "outputs": [],
   "source": [
    "n = lca.biosphere_matrix.shape[0] # number of bioflows"
   ]
  },
  {
   "cell_type": "code",
   "execution_count": 13,
   "metadata": {},
   "outputs": [],
   "source": [
    "results_array = np.zeros((len(eidb), len(methods), n))"
   ]
  },
  {
   "cell_type": "code",
   "execution_count": 14,
   "metadata": {},
   "outputs": [],
   "source": [
    "method_matrices = []\n",
    "\n",
    "for m in methods:\n",
    "    lca.switch_method(m)\n",
    "    method_matrices.append(lca.characterization_matrix.copy())"
   ]
  },
  {
   "cell_type": "code",
   "execution_count": 15,
   "metadata": {},
   "outputs": [
    {
     "name": "stderr",
     "output_type": "stream",
     "text": [
      "0% [##############################] 100% | ETA: 00:00:00\n",
      "Total time elapsed: 00:08:36\n"
     ]
    }
   ],
   "source": [
    "for i, ds in enumerate(pyprind.prog_bar(eidb)):\n",
    "    lca.redo_lci({ds: 1})\n",
    "    for j, method in enumerate(methods):\n",
    "        vector = np.ravel((method_matrices[j] * lca.inventory).sum(axis=1))\n",
    "        # Normalize to fractions of total\n",
    "        if not vector.sum():\n",
    "            continue\n",
    "        vector /= vector.sum()\n",
    "        results_array[i, j, :] = vector"
   ]
  },
  {
   "cell_type": "markdown",
   "metadata": {},
   "source": [
    "Might want to save this result to avoid recalculation"
   ]
  },
  {
   "cell_type": "code",
   "execution_count": 15,
   "metadata": {},
   "outputs": [],
   "source": [
    "np.save(\"lcia-results\", results_array)"
   ]
  },
  {
   "cell_type": "code",
   "execution_count": 16,
   "metadata": {},
   "outputs": [
    {
     "data": {
      "text/plain": [
       "(18121, 17, 2077)"
      ]
     },
     "execution_count": 16,
     "metadata": {},
     "output_type": "execute_result"
    }
   ],
   "source": [
    "results_array.shape"
   ]
  },
  {
   "cell_type": "code",
   "execution_count": 17,
   "metadata": {},
   "outputs": [
    {
     "data": {
      "text/plain": [
       "656"
      ]
     },
     "execution_count": 17,
     "metadata": {},
     "output_type": "execute_result"
    }
   ],
   "source": [
    "one_percent = results_array > 0.01\n",
    "mask = one_percent.sum(axis=(0,1)).astype(bool)\n",
    "mask.sum()"
   ]
  },
  {
   "cell_type": "code",
   "execution_count": 19,
   "metadata": {},
   "outputs": [],
   "source": [
    "compressed = results_array[:, 0, mask]# choose the lca score from the first lcia method, which is ReCiPe 'freshwater ecotoxicity', 'FETPinf'"
   ]
  },
  {
   "cell_type": "code",
   "execution_count": 20,
   "metadata": {},
   "outputs": [
    {
     "data": {
      "text/plain": [
       "(18121, 656)"
      ]
     },
     "execution_count": 20,
     "metadata": {},
     "output_type": "execute_result"
    }
   ],
   "source": [
    "compressed.shape"
   ]
  },
  {
   "cell_type": "code",
   "execution_count": 21,
   "metadata": {},
   "outputs": [
    {
     "data": {
      "text/plain": [
       "(18121, 656)"
      ]
     },
     "execution_count": 21,
     "metadata": {},
     "output_type": "execute_result"
    }
   ],
   "source": [
    "score_array = compressed\n",
    "score_array.shape"
   ]
  },
  {
   "cell_type": "code",
   "execution_count": 23,
   "metadata": {},
   "outputs": [
    {
     "name": "stderr",
     "output_type": "stream",
     "text": [
      "0% [##############################] 100% | ETA: 00:00:00\n",
      "Total time elapsed: 00:01:35\n"
     ]
    },
    {
     "data": {
      "text/plain": [
       "(18121, 18121, 18121, 18121, 18121, 18121)"
      ]
     },
     "execution_count": 23,
     "metadata": {},
     "output_type": "execute_result"
    }
   ],
   "source": [
    "# form a dataframe including activity id, name, isic, cpc and scores for each elementary flow\n",
    "new_matrix = {}\n",
    "act_id = []\n",
    "act_name = []\n",
    "act_location = []\n",
    "isic_num = []\n",
    "cpc_num = []\n",
    "n = 0\n",
    "for obj in pyprind.prog_bar(eidb):\n",
    "    act_id.append(lca.activity_dict[obj.key])\n",
    "    act_name.append(obj['name'])\n",
    "    act_location.append(obj['location'])\n",
    "    new_matrix[lca.activity_dict[obj.key]] = score_array[n]\n",
    "    n = n+1\n",
    "    obj_class = obj['classifications']\n",
    "    obj_class_whole = ()\n",
    "    if obj['classifications']:\n",
    "        for i in range(len(obj_class)):\n",
    "            obj_class_whole = obj_class_whole + obj_class[i]\n",
    "            if 'ISIC rev.4 ecoinvent' in obj_class[i]:\n",
    "                isic = obj_class[i][1]\n",
    "                isic_num.append(isic.split(':')[0]) \n",
    "            if 'CPC' in obj_class[i]:\n",
    "                cpc = obj_class[i][1]\n",
    "                cpc_num.append(cpc.split(':')[0])\n",
    "            if i == len(obj_class)-1 and 'ISIC rev.4 ecoinvent' not in obj_class_whole:\n",
    "                isic_num.append(0)\n",
    "            if i == len(obj_class)-1 and 'CPC' not in obj_class_whole:\n",
    "                cpc_num.append(0)\n",
    "                \n",
    "    else:\n",
    "        isic_num.append(0)\n",
    "        cpc_num.append(0)\n",
    "\n",
    "len(act_id),len(act_name),len(cpc_num),len(isic_num),len(new_matrix),len(act_location)\n",
    "    "
   ]
  },
  {
   "cell_type": "code",
   "execution_count": 24,
   "metadata": {},
   "outputs": [
    {
     "data": {
      "text/html": [
       "<div>\n",
       "<style scoped>\n",
       "    .dataframe tbody tr th:only-of-type {\n",
       "        vertical-align: middle;\n",
       "    }\n",
       "\n",
       "    .dataframe tbody tr th {\n",
       "        vertical-align: top;\n",
       "    }\n",
       "\n",
       "    .dataframe thead th {\n",
       "        text-align: right;\n",
       "    }\n",
       "</style>\n",
       "<table border=\"1\" class=\"dataframe\">\n",
       "  <thead>\n",
       "    <tr style=\"text-align: right;\">\n",
       "      <th></th>\n",
       "      <th>0</th>\n",
       "      <th>1</th>\n",
       "      <th>2</th>\n",
       "      <th>3</th>\n",
       "      <th>4</th>\n",
       "      <th>5</th>\n",
       "      <th>6</th>\n",
       "      <th>7</th>\n",
       "      <th>8</th>\n",
       "      <th>9</th>\n",
       "      <th>...</th>\n",
       "      <th>646</th>\n",
       "      <th>647</th>\n",
       "      <th>648</th>\n",
       "      <th>649</th>\n",
       "      <th>650</th>\n",
       "      <th>651</th>\n",
       "      <th>652</th>\n",
       "      <th>653</th>\n",
       "      <th>654</th>\n",
       "      <th>655</th>\n",
       "    </tr>\n",
       "  </thead>\n",
       "  <tbody>\n",
       "    <tr>\n",
       "      <th>5372</th>\n",
       "      <td>1.465624e-10</td>\n",
       "      <td>5.327600e-16</td>\n",
       "      <td>0.0</td>\n",
       "      <td>4.000396e-13</td>\n",
       "      <td>0.0</td>\n",
       "      <td>9.442185e-15</td>\n",
       "      <td>4.332517e-11</td>\n",
       "      <td>2.294195e-10</td>\n",
       "      <td>1.107797e-10</td>\n",
       "      <td>5.377985e-09</td>\n",
       "      <td>...</td>\n",
       "      <td>0.0</td>\n",
       "      <td>0.0</td>\n",
       "      <td>0.0</td>\n",
       "      <td>0.0</td>\n",
       "      <td>0.0</td>\n",
       "      <td>0.0</td>\n",
       "      <td>0.0</td>\n",
       "      <td>0.0</td>\n",
       "      <td>0.0</td>\n",
       "      <td>0.0</td>\n",
       "    </tr>\n",
       "    <tr>\n",
       "      <th>5681</th>\n",
       "      <td>5.643609e-10</td>\n",
       "      <td>1.851118e-15</td>\n",
       "      <td>0.0</td>\n",
       "      <td>2.029782e-12</td>\n",
       "      <td>0.0</td>\n",
       "      <td>2.818631e-15</td>\n",
       "      <td>9.648675e-11</td>\n",
       "      <td>9.126056e-10</td>\n",
       "      <td>5.673006e-10</td>\n",
       "      <td>6.103602e-08</td>\n",
       "      <td>...</td>\n",
       "      <td>0.0</td>\n",
       "      <td>0.0</td>\n",
       "      <td>0.0</td>\n",
       "      <td>0.0</td>\n",
       "      <td>0.0</td>\n",
       "      <td>0.0</td>\n",
       "      <td>0.0</td>\n",
       "      <td>0.0</td>\n",
       "      <td>0.0</td>\n",
       "      <td>0.0</td>\n",
       "    </tr>\n",
       "    <tr>\n",
       "      <th>14731</th>\n",
       "      <td>6.756535e-08</td>\n",
       "      <td>4.253612e-14</td>\n",
       "      <td>0.0</td>\n",
       "      <td>9.655813e-11</td>\n",
       "      <td>0.0</td>\n",
       "      <td>1.630238e-14</td>\n",
       "      <td>4.196932e-10</td>\n",
       "      <td>1.106172e-07</td>\n",
       "      <td>1.133069e-09</td>\n",
       "      <td>4.416901e-08</td>\n",
       "      <td>...</td>\n",
       "      <td>0.0</td>\n",
       "      <td>0.0</td>\n",
       "      <td>0.0</td>\n",
       "      <td>0.0</td>\n",
       "      <td>0.0</td>\n",
       "      <td>0.0</td>\n",
       "      <td>0.0</td>\n",
       "      <td>0.0</td>\n",
       "      <td>0.0</td>\n",
       "      <td>0.0</td>\n",
       "    </tr>\n",
       "    <tr>\n",
       "      <th>6051</th>\n",
       "      <td>2.688926e-11</td>\n",
       "      <td>8.128458e-17</td>\n",
       "      <td>-0.0</td>\n",
       "      <td>1.806148e-13</td>\n",
       "      <td>-0.0</td>\n",
       "      <td>2.104872e-16</td>\n",
       "      <td>4.350754e-12</td>\n",
       "      <td>4.070606e-11</td>\n",
       "      <td>9.456860e-11</td>\n",
       "      <td>1.459729e-09</td>\n",
       "      <td>...</td>\n",
       "      <td>-0.0</td>\n",
       "      <td>-0.0</td>\n",
       "      <td>-0.0</td>\n",
       "      <td>-0.0</td>\n",
       "      <td>-0.0</td>\n",
       "      <td>-0.0</td>\n",
       "      <td>-0.0</td>\n",
       "      <td>-0.0</td>\n",
       "      <td>-0.0</td>\n",
       "      <td>-0.0</td>\n",
       "    </tr>\n",
       "    <tr>\n",
       "      <th>15980</th>\n",
       "      <td>4.879869e-10</td>\n",
       "      <td>2.849344e-15</td>\n",
       "      <td>0.0</td>\n",
       "      <td>4.854394e-12</td>\n",
       "      <td>0.0</td>\n",
       "      <td>8.302221e-15</td>\n",
       "      <td>1.631697e-10</td>\n",
       "      <td>5.904087e-10</td>\n",
       "      <td>8.523312e-10</td>\n",
       "      <td>6.135968e-08</td>\n",
       "      <td>...</td>\n",
       "      <td>0.0</td>\n",
       "      <td>0.0</td>\n",
       "      <td>0.0</td>\n",
       "      <td>0.0</td>\n",
       "      <td>0.0</td>\n",
       "      <td>0.0</td>\n",
       "      <td>0.0</td>\n",
       "      <td>0.0</td>\n",
       "      <td>0.0</td>\n",
       "      <td>0.0</td>\n",
       "    </tr>\n",
       "    <tr>\n",
       "      <th>5495</th>\n",
       "      <td>2.252089e-10</td>\n",
       "      <td>3.452383e-15</td>\n",
       "      <td>0.0</td>\n",
       "      <td>1.477599e-12</td>\n",
       "      <td>0.0</td>\n",
       "      <td>4.415384e-15</td>\n",
       "      <td>6.399725e-11</td>\n",
       "      <td>3.152194e-10</td>\n",
       "      <td>5.913420e-10</td>\n",
       "      <td>4.317955e-08</td>\n",
       "      <td>...</td>\n",
       "      <td>0.0</td>\n",
       "      <td>0.0</td>\n",
       "      <td>0.0</td>\n",
       "      <td>0.0</td>\n",
       "      <td>0.0</td>\n",
       "      <td>0.0</td>\n",
       "      <td>0.0</td>\n",
       "      <td>0.0</td>\n",
       "      <td>0.0</td>\n",
       "      <td>0.0</td>\n",
       "    </tr>\n",
       "    <tr>\n",
       "      <th>11234</th>\n",
       "      <td>0.000000e+00</td>\n",
       "      <td>0.000000e+00</td>\n",
       "      <td>0.0</td>\n",
       "      <td>0.000000e+00</td>\n",
       "      <td>0.0</td>\n",
       "      <td>0.000000e+00</td>\n",
       "      <td>0.000000e+00</td>\n",
       "      <td>0.000000e+00</td>\n",
       "      <td>0.000000e+00</td>\n",
       "      <td>0.000000e+00</td>\n",
       "      <td>...</td>\n",
       "      <td>0.0</td>\n",
       "      <td>0.0</td>\n",
       "      <td>0.0</td>\n",
       "      <td>0.0</td>\n",
       "      <td>0.0</td>\n",
       "      <td>0.0</td>\n",
       "      <td>0.0</td>\n",
       "      <td>0.0</td>\n",
       "      <td>0.0</td>\n",
       "      <td>0.0</td>\n",
       "    </tr>\n",
       "    <tr>\n",
       "      <th>1662</th>\n",
       "      <td>3.906341e-10</td>\n",
       "      <td>1.713121e-15</td>\n",
       "      <td>0.0</td>\n",
       "      <td>6.606208e-12</td>\n",
       "      <td>0.0</td>\n",
       "      <td>1.282085e-14</td>\n",
       "      <td>1.788162e-10</td>\n",
       "      <td>5.741968e-10</td>\n",
       "      <td>7.337264e-10</td>\n",
       "      <td>7.131222e-08</td>\n",
       "      <td>...</td>\n",
       "      <td>0.0</td>\n",
       "      <td>0.0</td>\n",
       "      <td>0.0</td>\n",
       "      <td>0.0</td>\n",
       "      <td>0.0</td>\n",
       "      <td>0.0</td>\n",
       "      <td>0.0</td>\n",
       "      <td>0.0</td>\n",
       "      <td>0.0</td>\n",
       "      <td>0.0</td>\n",
       "    </tr>\n",
       "    <tr>\n",
       "      <th>13065</th>\n",
       "      <td>7.348301e-10</td>\n",
       "      <td>8.880420e-16</td>\n",
       "      <td>0.0</td>\n",
       "      <td>1.531545e-12</td>\n",
       "      <td>0.0</td>\n",
       "      <td>9.731165e-15</td>\n",
       "      <td>2.145952e-10</td>\n",
       "      <td>1.099838e-09</td>\n",
       "      <td>9.540607e-08</td>\n",
       "      <td>9.733253e-06</td>\n",
       "      <td>...</td>\n",
       "      <td>0.0</td>\n",
       "      <td>0.0</td>\n",
       "      <td>0.0</td>\n",
       "      <td>0.0</td>\n",
       "      <td>0.0</td>\n",
       "      <td>0.0</td>\n",
       "      <td>0.0</td>\n",
       "      <td>0.0</td>\n",
       "      <td>0.0</td>\n",
       "      <td>0.0</td>\n",
       "    </tr>\n",
       "    <tr>\n",
       "      <th>17079</th>\n",
       "      <td>1.849384e-09</td>\n",
       "      <td>2.901609e-15</td>\n",
       "      <td>0.0</td>\n",
       "      <td>5.596258e-12</td>\n",
       "      <td>0.0</td>\n",
       "      <td>7.753624e-15</td>\n",
       "      <td>4.451321e-11</td>\n",
       "      <td>2.521503e-09</td>\n",
       "      <td>7.237423e-10</td>\n",
       "      <td>6.555753e-08</td>\n",
       "      <td>...</td>\n",
       "      <td>0.0</td>\n",
       "      <td>0.0</td>\n",
       "      <td>0.0</td>\n",
       "      <td>0.0</td>\n",
       "      <td>0.0</td>\n",
       "      <td>0.0</td>\n",
       "      <td>0.0</td>\n",
       "      <td>0.0</td>\n",
       "      <td>0.0</td>\n",
       "      <td>0.0</td>\n",
       "    </tr>\n",
       "  </tbody>\n",
       "</table>\n",
       "<p>10 rows × 656 columns</p>\n",
       "</div>"
      ],
      "text/plain": [
       "                0             1    2             3    4             5    \\\n",
       "5372   1.465624e-10  5.327600e-16  0.0  4.000396e-13  0.0  9.442185e-15   \n",
       "5681   5.643609e-10  1.851118e-15  0.0  2.029782e-12  0.0  2.818631e-15   \n",
       "14731  6.756535e-08  4.253612e-14  0.0  9.655813e-11  0.0  1.630238e-14   \n",
       "6051   2.688926e-11  8.128458e-17 -0.0  1.806148e-13 -0.0  2.104872e-16   \n",
       "15980  4.879869e-10  2.849344e-15  0.0  4.854394e-12  0.0  8.302221e-15   \n",
       "5495   2.252089e-10  3.452383e-15  0.0  1.477599e-12  0.0  4.415384e-15   \n",
       "11234  0.000000e+00  0.000000e+00  0.0  0.000000e+00  0.0  0.000000e+00   \n",
       "1662   3.906341e-10  1.713121e-15  0.0  6.606208e-12  0.0  1.282085e-14   \n",
       "13065  7.348301e-10  8.880420e-16  0.0  1.531545e-12  0.0  9.731165e-15   \n",
       "17079  1.849384e-09  2.901609e-15  0.0  5.596258e-12  0.0  7.753624e-15   \n",
       "\n",
       "                6             7             8             9   ...   646  647  \\\n",
       "5372   4.332517e-11  2.294195e-10  1.107797e-10  5.377985e-09 ...   0.0  0.0   \n",
       "5681   9.648675e-11  9.126056e-10  5.673006e-10  6.103602e-08 ...   0.0  0.0   \n",
       "14731  4.196932e-10  1.106172e-07  1.133069e-09  4.416901e-08 ...   0.0  0.0   \n",
       "6051   4.350754e-12  4.070606e-11  9.456860e-11  1.459729e-09 ...  -0.0 -0.0   \n",
       "15980  1.631697e-10  5.904087e-10  8.523312e-10  6.135968e-08 ...   0.0  0.0   \n",
       "5495   6.399725e-11  3.152194e-10  5.913420e-10  4.317955e-08 ...   0.0  0.0   \n",
       "11234  0.000000e+00  0.000000e+00  0.000000e+00  0.000000e+00 ...   0.0  0.0   \n",
       "1662   1.788162e-10  5.741968e-10  7.337264e-10  7.131222e-08 ...   0.0  0.0   \n",
       "13065  2.145952e-10  1.099838e-09  9.540607e-08  9.733253e-06 ...   0.0  0.0   \n",
       "17079  4.451321e-11  2.521503e-09  7.237423e-10  6.555753e-08 ...   0.0  0.0   \n",
       "\n",
       "       648  649  650  651  652  653  654  655  \n",
       "5372   0.0  0.0  0.0  0.0  0.0  0.0  0.0  0.0  \n",
       "5681   0.0  0.0  0.0  0.0  0.0  0.0  0.0  0.0  \n",
       "14731  0.0  0.0  0.0  0.0  0.0  0.0  0.0  0.0  \n",
       "6051  -0.0 -0.0 -0.0 -0.0 -0.0 -0.0 -0.0 -0.0  \n",
       "15980  0.0  0.0  0.0  0.0  0.0  0.0  0.0  0.0  \n",
       "5495   0.0  0.0  0.0  0.0  0.0  0.0  0.0  0.0  \n",
       "11234  0.0  0.0  0.0  0.0  0.0  0.0  0.0  0.0  \n",
       "1662   0.0  0.0  0.0  0.0  0.0  0.0  0.0  0.0  \n",
       "13065  0.0  0.0  0.0  0.0  0.0  0.0  0.0  0.0  \n",
       "17079  0.0  0.0  0.0  0.0  0.0  0.0  0.0  0.0  \n",
       "\n",
       "[10 rows x 656 columns]"
      ]
     },
     "execution_count": 24,
     "metadata": {},
     "output_type": "execute_result"
    }
   ],
   "source": [
    "import pandas as pd\n",
    "df = pd.DataFrame(new_matrix)\n",
    "df_new = df.T\n",
    "df_new.head(10)"
   ]
  },
  {
   "cell_type": "code",
   "execution_count": 25,
   "metadata": {},
   "outputs": [],
   "source": [
    "df_new.to_csv('all_act_bioflow_features_0.csv')"
   ]
  },
  {
   "cell_type": "code",
   "execution_count": 26,
   "metadata": {},
   "outputs": [
    {
     "data": {
      "text/html": [
       "<div>\n",
       "<style scoped>\n",
       "    .dataframe tbody tr th:only-of-type {\n",
       "        vertical-align: middle;\n",
       "    }\n",
       "\n",
       "    .dataframe tbody tr th {\n",
       "        vertical-align: top;\n",
       "    }\n",
       "\n",
       "    .dataframe thead th {\n",
       "        text-align: right;\n",
       "    }\n",
       "</style>\n",
       "<table border=\"1\" class=\"dataframe\">\n",
       "  <thead>\n",
       "    <tr style=\"text-align: right;\">\n",
       "      <th></th>\n",
       "      <th>activity</th>\n",
       "      <th>name</th>\n",
       "      <th>location</th>\n",
       "      <th>ISIC</th>\n",
       "      <th>CPC</th>\n",
       "    </tr>\n",
       "  </thead>\n",
       "  <tbody>\n",
       "    <tr>\n",
       "      <th>0</th>\n",
       "      <td>5372</td>\n",
       "      <td>treatment of waste plaster-cardboard sandwich,...</td>\n",
       "      <td>CH</td>\n",
       "      <td>3830</td>\n",
       "      <td>39990</td>\n",
       "    </tr>\n",
       "    <tr>\n",
       "      <th>1</th>\n",
       "      <td>5681</td>\n",
       "      <td>electricity, high voltage, import from NO</td>\n",
       "      <td>SE</td>\n",
       "      <td>3510</td>\n",
       "      <td>17100</td>\n",
       "    </tr>\n",
       "    <tr>\n",
       "      <th>2</th>\n",
       "      <td>14731</td>\n",
       "      <td>ethanol production from sweet sorghum</td>\n",
       "      <td>RoW</td>\n",
       "      <td>19a</td>\n",
       "      <td>35491</td>\n",
       "    </tr>\n",
       "    <tr>\n",
       "      <th>3</th>\n",
       "      <td>6051</td>\n",
       "      <td>electricity production, photovoltaic, 570kWp o...</td>\n",
       "      <td>CA-AB</td>\n",
       "      <td>3510b</td>\n",
       "      <td>17100</td>\n",
       "    </tr>\n",
       "    <tr>\n",
       "      <th>4</th>\n",
       "      <td>15980</td>\n",
       "      <td>glass etching factory construction</td>\n",
       "      <td>DK</td>\n",
       "      <td>4100</td>\n",
       "      <td>53269</td>\n",
       "    </tr>\n",
       "  </tbody>\n",
       "</table>\n",
       "</div>"
      ],
      "text/plain": [
       "   activity                                               name location  \\\n",
       "0      5372  treatment of waste plaster-cardboard sandwich,...       CH   \n",
       "1      5681          electricity, high voltage, import from NO       SE   \n",
       "2     14731              ethanol production from sweet sorghum      RoW   \n",
       "3      6051  electricity production, photovoltaic, 570kWp o...    CA-AB   \n",
       "4     15980                 glass etching factory construction       DK   \n",
       "\n",
       "    ISIC    CPC  \n",
       "0   3830  39990  \n",
       "1   3510  17100  \n",
       "2    19a  35491  \n",
       "3  3510b  17100  \n",
       "4   4100  53269  "
      ]
     },
     "execution_count": 26,
     "metadata": {},
     "output_type": "execute_result"
    }
   ],
   "source": [
    "df_act_cpc_isic = pd.DataFrame({'activity':act_id,\n",
    "                                'name':act_name,\n",
    "                                'location':act_location,\n",
    "                                'ISIC':isic_num,\n",
    "                                'CPC':cpc_num})\n",
    "df_act_cpc_isic.head()"
   ]
  },
  {
   "cell_type": "code",
   "execution_count": 27,
   "metadata": {},
   "outputs": [
    {
     "data": {
      "text/html": [
       "<div>\n",
       "<style scoped>\n",
       "    .dataframe tbody tr th:only-of-type {\n",
       "        vertical-align: middle;\n",
       "    }\n",
       "\n",
       "    .dataframe tbody tr th {\n",
       "        vertical-align: top;\n",
       "    }\n",
       "\n",
       "    .dataframe thead th {\n",
       "        text-align: right;\n",
       "    }\n",
       "</style>\n",
       "<table border=\"1\" class=\"dataframe\">\n",
       "  <thead>\n",
       "    <tr style=\"text-align: right;\">\n",
       "      <th></th>\n",
       "      <th>name</th>\n",
       "      <th>location</th>\n",
       "      <th>ISIC</th>\n",
       "      <th>CPC</th>\n",
       "    </tr>\n",
       "    <tr>\n",
       "      <th>activity</th>\n",
       "      <th></th>\n",
       "      <th></th>\n",
       "      <th></th>\n",
       "      <th></th>\n",
       "    </tr>\n",
       "  </thead>\n",
       "  <tbody>\n",
       "    <tr>\n",
       "      <th>5372</th>\n",
       "      <td>treatment of waste plaster-cardboard sandwich,...</td>\n",
       "      <td>CH</td>\n",
       "      <td>3830</td>\n",
       "      <td>39990</td>\n",
       "    </tr>\n",
       "    <tr>\n",
       "      <th>5681</th>\n",
       "      <td>electricity, high voltage, import from NO</td>\n",
       "      <td>SE</td>\n",
       "      <td>3510</td>\n",
       "      <td>17100</td>\n",
       "    </tr>\n",
       "    <tr>\n",
       "      <th>14731</th>\n",
       "      <td>ethanol production from sweet sorghum</td>\n",
       "      <td>RoW</td>\n",
       "      <td>19a</td>\n",
       "      <td>35491</td>\n",
       "    </tr>\n",
       "    <tr>\n",
       "      <th>6051</th>\n",
       "      <td>electricity production, photovoltaic, 570kWp o...</td>\n",
       "      <td>CA-AB</td>\n",
       "      <td>3510b</td>\n",
       "      <td>17100</td>\n",
       "    </tr>\n",
       "    <tr>\n",
       "      <th>15980</th>\n",
       "      <td>glass etching factory construction</td>\n",
       "      <td>DK</td>\n",
       "      <td>4100</td>\n",
       "      <td>53269</td>\n",
       "    </tr>\n",
       "  </tbody>\n",
       "</table>\n",
       "</div>"
      ],
      "text/plain": [
       "                                                       name location   ISIC  \\\n",
       "activity                                                                      \n",
       "5372      treatment of waste plaster-cardboard sandwich,...       CH   3830   \n",
       "5681              electricity, high voltage, import from NO       SE   3510   \n",
       "14731                 ethanol production from sweet sorghum      RoW    19a   \n",
       "6051      electricity production, photovoltaic, 570kWp o...    CA-AB  3510b   \n",
       "15980                    glass etching factory construction       DK   4100   \n",
       "\n",
       "            CPC  \n",
       "activity         \n",
       "5372      39990  \n",
       "5681      17100  \n",
       "14731     35491  \n",
       "6051      17100  \n",
       "15980     53269  "
      ]
     },
     "execution_count": 27,
     "metadata": {},
     "output_type": "execute_result"
    }
   ],
   "source": [
    "df_act_cpc_isic = df_act_cpc_isic.set_index('activity')\n",
    "df_act_cpc_isic.head()"
   ]
  },
  {
   "cell_type": "code",
   "execution_count": 28,
   "metadata": {},
   "outputs": [
    {
     "data": {
      "text/html": [
       "<div>\n",
       "<style scoped>\n",
       "    .dataframe tbody tr th:only-of-type {\n",
       "        vertical-align: middle;\n",
       "    }\n",
       "\n",
       "    .dataframe tbody tr th {\n",
       "        vertical-align: top;\n",
       "    }\n",
       "\n",
       "    .dataframe thead th {\n",
       "        text-align: right;\n",
       "    }\n",
       "</style>\n",
       "<table border=\"1\" class=\"dataframe\">\n",
       "  <thead>\n",
       "    <tr style=\"text-align: right;\">\n",
       "      <th></th>\n",
       "      <th>name</th>\n",
       "      <th>location</th>\n",
       "      <th>ISIC</th>\n",
       "      <th>CPC</th>\n",
       "      <th>0</th>\n",
       "      <th>1</th>\n",
       "      <th>2</th>\n",
       "      <th>3</th>\n",
       "      <th>4</th>\n",
       "      <th>5</th>\n",
       "      <th>...</th>\n",
       "      <th>646</th>\n",
       "      <th>647</th>\n",
       "      <th>648</th>\n",
       "      <th>649</th>\n",
       "      <th>650</th>\n",
       "      <th>651</th>\n",
       "      <th>652</th>\n",
       "      <th>653</th>\n",
       "      <th>654</th>\n",
       "      <th>655</th>\n",
       "    </tr>\n",
       "    <tr>\n",
       "      <th>activity</th>\n",
       "      <th></th>\n",
       "      <th></th>\n",
       "      <th></th>\n",
       "      <th></th>\n",
       "      <th></th>\n",
       "      <th></th>\n",
       "      <th></th>\n",
       "      <th></th>\n",
       "      <th></th>\n",
       "      <th></th>\n",
       "      <th></th>\n",
       "      <th></th>\n",
       "      <th></th>\n",
       "      <th></th>\n",
       "      <th></th>\n",
       "      <th></th>\n",
       "      <th></th>\n",
       "      <th></th>\n",
       "      <th></th>\n",
       "      <th></th>\n",
       "      <th></th>\n",
       "    </tr>\n",
       "  </thead>\n",
       "  <tbody>\n",
       "    <tr>\n",
       "      <th>5372</th>\n",
       "      <td>treatment of waste plaster-cardboard sandwich,...</td>\n",
       "      <td>CH</td>\n",
       "      <td>3830</td>\n",
       "      <td>39990</td>\n",
       "      <td>1.465624e-10</td>\n",
       "      <td>5.327600e-16</td>\n",
       "      <td>0.0</td>\n",
       "      <td>4.000396e-13</td>\n",
       "      <td>0.0</td>\n",
       "      <td>9.442185e-15</td>\n",
       "      <td>...</td>\n",
       "      <td>0.0</td>\n",
       "      <td>0.0</td>\n",
       "      <td>0.0</td>\n",
       "      <td>0.0</td>\n",
       "      <td>0.0</td>\n",
       "      <td>0.0</td>\n",
       "      <td>0.0</td>\n",
       "      <td>0.0</td>\n",
       "      <td>0.0</td>\n",
       "      <td>0.0</td>\n",
       "    </tr>\n",
       "    <tr>\n",
       "      <th>5681</th>\n",
       "      <td>electricity, high voltage, import from NO</td>\n",
       "      <td>SE</td>\n",
       "      <td>3510</td>\n",
       "      <td>17100</td>\n",
       "      <td>5.643609e-10</td>\n",
       "      <td>1.851118e-15</td>\n",
       "      <td>0.0</td>\n",
       "      <td>2.029782e-12</td>\n",
       "      <td>0.0</td>\n",
       "      <td>2.818631e-15</td>\n",
       "      <td>...</td>\n",
       "      <td>0.0</td>\n",
       "      <td>0.0</td>\n",
       "      <td>0.0</td>\n",
       "      <td>0.0</td>\n",
       "      <td>0.0</td>\n",
       "      <td>0.0</td>\n",
       "      <td>0.0</td>\n",
       "      <td>0.0</td>\n",
       "      <td>0.0</td>\n",
       "      <td>0.0</td>\n",
       "    </tr>\n",
       "    <tr>\n",
       "      <th>14731</th>\n",
       "      <td>ethanol production from sweet sorghum</td>\n",
       "      <td>RoW</td>\n",
       "      <td>19a</td>\n",
       "      <td>35491</td>\n",
       "      <td>6.756535e-08</td>\n",
       "      <td>4.253612e-14</td>\n",
       "      <td>0.0</td>\n",
       "      <td>9.655813e-11</td>\n",
       "      <td>0.0</td>\n",
       "      <td>1.630238e-14</td>\n",
       "      <td>...</td>\n",
       "      <td>0.0</td>\n",
       "      <td>0.0</td>\n",
       "      <td>0.0</td>\n",
       "      <td>0.0</td>\n",
       "      <td>0.0</td>\n",
       "      <td>0.0</td>\n",
       "      <td>0.0</td>\n",
       "      <td>0.0</td>\n",
       "      <td>0.0</td>\n",
       "      <td>0.0</td>\n",
       "    </tr>\n",
       "    <tr>\n",
       "      <th>6051</th>\n",
       "      <td>electricity production, photovoltaic, 570kWp o...</td>\n",
       "      <td>CA-AB</td>\n",
       "      <td>3510b</td>\n",
       "      <td>17100</td>\n",
       "      <td>2.688926e-11</td>\n",
       "      <td>8.128458e-17</td>\n",
       "      <td>-0.0</td>\n",
       "      <td>1.806148e-13</td>\n",
       "      <td>-0.0</td>\n",
       "      <td>2.104872e-16</td>\n",
       "      <td>...</td>\n",
       "      <td>-0.0</td>\n",
       "      <td>-0.0</td>\n",
       "      <td>-0.0</td>\n",
       "      <td>-0.0</td>\n",
       "      <td>-0.0</td>\n",
       "      <td>-0.0</td>\n",
       "      <td>-0.0</td>\n",
       "      <td>-0.0</td>\n",
       "      <td>-0.0</td>\n",
       "      <td>-0.0</td>\n",
       "    </tr>\n",
       "    <tr>\n",
       "      <th>15980</th>\n",
       "      <td>glass etching factory construction</td>\n",
       "      <td>DK</td>\n",
       "      <td>4100</td>\n",
       "      <td>53269</td>\n",
       "      <td>4.879869e-10</td>\n",
       "      <td>2.849344e-15</td>\n",
       "      <td>0.0</td>\n",
       "      <td>4.854394e-12</td>\n",
       "      <td>0.0</td>\n",
       "      <td>8.302221e-15</td>\n",
       "      <td>...</td>\n",
       "      <td>0.0</td>\n",
       "      <td>0.0</td>\n",
       "      <td>0.0</td>\n",
       "      <td>0.0</td>\n",
       "      <td>0.0</td>\n",
       "      <td>0.0</td>\n",
       "      <td>0.0</td>\n",
       "      <td>0.0</td>\n",
       "      <td>0.0</td>\n",
       "      <td>0.0</td>\n",
       "    </tr>\n",
       "  </tbody>\n",
       "</table>\n",
       "<p>5 rows × 660 columns</p>\n",
       "</div>"
      ],
      "text/plain": [
       "                                                       name location   ISIC  \\\n",
       "activity                                                                      \n",
       "5372      treatment of waste plaster-cardboard sandwich,...       CH   3830   \n",
       "5681              electricity, high voltage, import from NO       SE   3510   \n",
       "14731                 ethanol production from sweet sorghum      RoW    19a   \n",
       "6051      electricity production, photovoltaic, 570kWp o...    CA-AB  3510b   \n",
       "15980                    glass etching factory construction       DK   4100   \n",
       "\n",
       "            CPC             0             1    2             3    4  \\\n",
       "activity                                                              \n",
       "5372      39990  1.465624e-10  5.327600e-16  0.0  4.000396e-13  0.0   \n",
       "5681      17100  5.643609e-10  1.851118e-15  0.0  2.029782e-12  0.0   \n",
       "14731     35491  6.756535e-08  4.253612e-14  0.0  9.655813e-11  0.0   \n",
       "6051      17100  2.688926e-11  8.128458e-17 -0.0  1.806148e-13 -0.0   \n",
       "15980     53269  4.879869e-10  2.849344e-15  0.0  4.854394e-12  0.0   \n",
       "\n",
       "                     5 ...   646  647  648  649  650  651  652  653  654  655  \n",
       "activity               ...                                                     \n",
       "5372      9.442185e-15 ...   0.0  0.0  0.0  0.0  0.0  0.0  0.0  0.0  0.0  0.0  \n",
       "5681      2.818631e-15 ...   0.0  0.0  0.0  0.0  0.0  0.0  0.0  0.0  0.0  0.0  \n",
       "14731     1.630238e-14 ...   0.0  0.0  0.0  0.0  0.0  0.0  0.0  0.0  0.0  0.0  \n",
       "6051      2.104872e-16 ...  -0.0 -0.0 -0.0 -0.0 -0.0 -0.0 -0.0 -0.0 -0.0 -0.0  \n",
       "15980     8.302221e-15 ...   0.0  0.0  0.0  0.0  0.0  0.0  0.0  0.0  0.0  0.0  \n",
       "\n",
       "[5 rows x 660 columns]"
      ]
     },
     "execution_count": 28,
     "metadata": {},
     "output_type": "execute_result"
    }
   ],
   "source": [
    "df_act_features = df_act_cpc_isic.merge(df_new,right_index = True, left_index = True)\n",
    "df_act_features.head()"
   ]
  },
  {
   "cell_type": "code",
   "execution_count": 29,
   "metadata": {},
   "outputs": [],
   "source": [
    "df_act_features.to_csv('all_act_name_location_cpc_isic_method_0.csv')"
   ]
  }
 ],
 "metadata": {
  "kernelspec": {
   "display_name": "Python 3",
   "language": "python",
   "name": "python3"
  },
  "language_info": {
   "codemirror_mode": {
    "name": "ipython",
    "version": 3
   },
   "file_extension": ".py",
   "mimetype": "text/x-python",
   "name": "python",
   "nbconvert_exporter": "python",
   "pygments_lexer": "ipython3",
   "version": "3.7.1"
  },
  "toc": {
   "colors": {
    "hover_highlight": "#DAA520",
    "running_highlight": "#FF0000",
    "selected_highlight": "#FFD700"
   },
   "moveMenuLeft": true,
   "nav_menu": {
    "height": "12px",
    "width": "252px"
   },
   "navigate_menu": true,
   "number_sections": true,
   "sideBar": true,
   "threshold": 4,
   "toc_cell": false,
   "toc_section_display": "block",
   "toc_window_display": false
  }
 },
 "nbformat": 4,
 "nbformat_minor": 2
}
